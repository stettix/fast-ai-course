{
 "cells": [
  {
   "cell_type": "markdown",
   "metadata": {},
   "source": [
    "This notebook is effectively a script that will massage the State Farm Distracted Driver Detection data from Kaggle into the shape needed by our notebooks. Note that this data is already formatted in the way we need, we just need to extract a validation set that contains a random sample of images for each class."
   ]
  },
  {
   "cell_type": "markdown",
   "metadata": {},
   "source": [
    "## Create validation set"
   ]
  },
  {
   "cell_type": "code",
   "execution_count": 11,
   "metadata": {
    "collapsed": true
   },
   "outputs": [],
   "source": [
    "import os\n",
    "import os.path\n",
    "from glob import glob\n",
    "import numpy as np\n",
    "import shutil\n",
    "\n",
    "rootdir = \"/home/ubuntu/data/state-farm\""
   ]
  },
  {
   "cell_type": "code",
   "execution_count": 13,
   "metadata": {
    "collapsed": false
   },
   "outputs": [],
   "source": [
    "for x in range(0, 10):\n",
    "    train_path = rootdir + \"/train/c\" + str(x)\n",
    "    valid_path = rootdir + \"/valid/c\" + str(x)\n",
    "    if not os.path.exists(valid_path):\n",
    "        os.makedirs(valid_path)\n",
    "    g = glob(train_path + '/*.jpg')\n",
    "    shuf = list(np.random.permutation(g))\n",
    "    sample_size = len(shuf) / 5 # Use 20% of training data for validation\n",
    "    sample = shuf[:sample_size]\n",
    "    for f in sample:\n",
    "        #print(\"Move from \" + f + \" to \" + valid_path)\n",
    "        shutil.move(f, valid_path)"
   ]
  },
  {
   "cell_type": "code",
   "execution_count": null,
   "metadata": {
    "collapsed": true
   },
   "outputs": [],
   "source": []
  }
 ],
 "metadata": {
  "kernelspec": {
   "display_name": "Python [conda root]",
   "language": "python",
   "name": "conda-root-py"
  },
  "language_info": {
   "codemirror_mode": {
    "name": "ipython",
    "version": 2
   },
   "file_extension": ".py",
   "mimetype": "text/x-python",
   "name": "python",
   "nbconvert_exporter": "python",
   "pygments_lexer": "ipython2",
   "version": "2.7.12"
  }
 },
 "nbformat": 4,
 "nbformat_minor": 1
}
